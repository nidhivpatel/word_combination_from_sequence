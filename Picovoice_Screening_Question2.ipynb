    {
      "cell_type": "code",
      "source": [
        "from typing import Sequence, List, Dict\n",
        "from collections import defaultdict\n",
        "\n",
        "# Pronunciation dictionary mapping words to their possible phoneme sequences\n",
        "pronunciation_dict = {\n",
        "    \"ABACUS\": [[\"AE\", \"B\", \"AH\", \"K\", \"AH\", \"S\"]],\n",
        "    \"BOOK\": [[\"B\", \"UH\", \"K\"]],\n",
        "    \"THEIR\": [[\"DH\", \"EH\", \"R\"]],\n",
        "    \"THERE\": [[\"DH\", \"EH\", \"R\"]],\n",
        "    \"TOMATO\": [[\"T\", \"AH\", \"M\", \"AA\", \"T\", \"OW\"], [\"T\", \"AH\", \"M\", \"EY\", \"T\", \"OW\"]],\n",
        "}\n",
        "\n",
        "def find_word_combos_with_pronunciation(phonemes: Sequence[str]) -> Sequence[Sequence[str]]:\n",
        "    # Create a map of: pronounciation -> word\n",
        "    to_words = defaultdict(list)\n",
        "    n = len(phonemes)\n",
        "    for word, word_phonemes_list in pronunciation_dict.items(): # TC: O(length of dictionary)\n",
        "        for word_phonemes in word_phonemes_list:\n",
        "            pronounciation = tuple(word_phonemes) # Convert list to tuple for hashability\n",
        "            to_words[pronounciation].append(word)\n",
        "\n",
        "    # sequences[i] stores all possible sequences of words for phonemes[i, n - 1]\n",
        "    sequences = [[]] * (n + 1)\n",
        "    sequences[n] = [[]] # Base case: empty sequence at the end\n",
        "\n",
        "    for start in range(n - 1, -1, -1): # Iterate from the end to the start | TC: O(square of length of input)\n",
        "        seqs = []\n",
        "        for end in range(start, n):\n",
        "            candidate_pronc = tuple(phonemes[start: end + 1])\n",
        "            if candidate_pronc in to_words:\n",
        "                for candidate_word in to_words[candidate_pronc]:\n",
        "                    for next_words in sequences[end + 1]:\n",
        "                        seqs.append([candidate_word] + next_words)\n",
        "        sequences[start] = seqs\n",
        "    return sequences[0]"
      ],
      "metadata": {
        "id": "0grtpHSGyN-v"
      },
      "execution_count": 11,
      "outputs": []
    },
    {
      "cell_type": "code",
      "source": [
        "# Testcase 1\n",
        "phonemes = [\"AE\", \"B\", \"AH\", \"K\", \"AH\", \"S\"]\n",
        "result = find_word_combos_with_pronunciation(phonemes)\n",
        "print(result)\n"
      ],
      "metadata": {
        "colab": {
          "base_uri": "https://localhost:8080/"
        },
        "id": "RGLAEGUV6i40",
        "outputId": "c239f7d5-8894-479a-9c92-0e4d4e3f0785"
      },
      "execution_count": 3,
      "outputs": [
        {
          "output_type": "stream",
          "name": "stdout",
          "text": [
            "[['ABACUS']]\n"
          ]
        }
      ]
    },
    {
      "cell_type": "code",
      "source": [
        "# Testcase 2\n",
        "phonemes = [\"B\", \"UH\", \"K\"]\n",
        "result = find_word_combos_with_pronunciation(phonemes)\n",
        "print(result)"
      ],
      "metadata": {
        "colab": {
          "base_uri": "https://localhost:8080/"
        },
        "id": "akduS_AA6ueu",
        "outputId": "53d74422-bfe1-44db-bcd6-5adb2379c91e"
      },
      "execution_count": 4,
      "outputs": [
        {
          "output_type": "stream",
          "name": "stdout",
          "text": [
            "[['BOOK']]\n"
          ]
        }
      ]
    },
    {
      "cell_type": "code",
      "source": [
        "# Testcase 3\n",
        "phonemes = [\"DH\", \"EH\", \"R\"]\n",
        "result = find_word_combos_with_pronunciation(phonemes)\n",
        "print(result)"
      ],
      "metadata": {
        "colab": {
          "base_uri": "https://localhost:8080/"
        },
        "id": "dNwl3sXf6z7e",
        "outputId": "1db43420-c9e7-4a6a-d237-4d5bb0549372"
      },
      "execution_count": 5,
      "outputs": [
        {
          "output_type": "stream",
          "name": "stdout",
          "text": [
            "[['THEIR'], ['THERE']]\n"
          ]
        }
      ]
    },
    {
      "cell_type": "code",
      "source": [
        "# Testcase 4\n",
        "phonemes = [\"DH\", \"EH\", \"R\", \"DH\", \"EH\", \"R\"]\n",
        "result = find_word_combos_with_pronunciation(phonemes)\n",
        "print(result)"
      ],
      "metadata": {
        "colab": {
          "base_uri": "https://localhost:8080/"
        },
        "id": "KIGP9KTU62-h",
        "outputId": "5d9d645f-e2a6-4e08-9196-d0b2d28646ea"
      },
      "execution_count": 6,
      "outputs": [
        {
          "output_type": "stream",
          "name": "stdout",
          "text": [
            "[['THEIR', 'THEIR'], ['THEIR', 'THERE'], ['THERE', 'THEIR'], ['THERE', 'THERE']]\n"
          ]
        }
      ]
    },
    {
      "cell_type": "code",
      "source": [
        "# Testcase 5\n",
        "phonemes = [\"T\", \"AH\", \"M\", \"AA\", \"T\", \"OW\"]\n",
        "result = find_word_combos_with_pronunciation(phonemes)\n",
        "print(result)"
      ],
      "metadata": {
        "colab": {
          "base_uri": "https://localhost:8080/"
        },
        "id": "o291wpwW7RU8",
        "outputId": "7a0820f8-193a-4226-a353-f544646b2755"
      },
      "execution_count": 7,
      "outputs": [
        {
          "output_type": "stream",
          "name": "stdout",
          "text": [
            "[['TOMATO']]\n"
          ]
        }
      ]
    },
    {
      "cell_type": "code",
      "source": [
        "# Testcase 6\n",
        "phonemes = [\"T\", \"AH\", \"M\", \"EY\", \"T\", \"OW\"]\n",
        "result = find_word_combos_with_pronunciation(phonemes)\n",
        "print(result)"
      ],
      "metadata": {
        "colab": {
          "base_uri": "https://localhost:8080/"
        },
        "id": "vVSv-PJL7XZZ",
        "outputId": "06fd8284-fc91-4f8c-837d-5fd2376d27f7"
      },
      "execution_count": 8,
      "outputs": [
        {
          "output_type": "stream",
          "name": "stdout",
          "text": [
            "[['TOMATO']]\n"
          ]
        }
      ]
    },
    {
      "cell_type": "code",
      "source": [
        "# Testcase 7\n",
        "phonemes = [\"T\", \"AH\", \"M\", \"EY\", \"T\", \"OW\", \"T\", \"AH\", \"M\", \"AA\", \"T\", \"OW\"]\n",
        "result = find_word_combos_with_pronunciation(phonemes)\n",
        "print(result)"
      ],
      "metadata": {
        "colab": {
          "base_uri": "https://localhost:8080/"
        },
        "id": "haH-Ijkn7dmG",
        "outputId": "03472151-a107-40c0-9abc-71720859f1bb"
      },
      "execution_count": 9,
      "outputs": [
        {
          "output_type": "stream",
          "name": "stdout",
          "text": [
            "[['TOMATO', 'TOMATO']]\n"
          ]
        }
      ]
    }
  ]
}
