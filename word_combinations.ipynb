{
  "nbformat": 4,
  "nbformat_minor": 0,
  "metadata": {
    "colab": {
      "provenance": []
    },
    "kernelspec": {
      "name": "python3",
      "display_name": "Python 3"
    },
    "language_info": {
      "name": "python"
    }
  },
  "cells": [
    {
      "cell_type": "code",
      "source": [
        "from typing import Sequence, List, Dict\n",
        "from collections import defaultdict\n",
        "\n",
        "# Pronunciation dictionary mapping words to their possible phoneme sequences\n",
        "pronunciation_dict = {\n",
        "    \"ABACUS\": [[\"AE\", \"B\", \"AH\", \"K\", \"AH\", \"S\"]],\n",
        "    \"BOOK\": [[\"B\", \"UH\", \"K\"]],\n",
        "    \"THEIR\": [[\"DH\", \"EH\", \"R\"]],\n",
        "    \"THERE\": [[\"DH\", \"EH\", \"R\"]],\n",
        "    \"TOMATO\": [[\"T\", \"AH\", \"M\", \"AA\", \"T\", \"OW\"], [\"T\", \"AH\", \"M\", \"EY\", \"T\", \"OW\"]],\n",
        "}\n",
        "\n",
        "def find_word_combos_with_pronunciation(phonemes: Sequence[str]) -> Sequence[Sequence[str]]:\n",
        "    # Create a map of: pronounciation -> word\n",
        "    to_words = defaultdict(list)\n",
        "    n = len(phonemes)\n",
        "    for word, word_phonemes_list in pronunciation_dict.items(): # TC: O(length of dictionary)\n",
        "        for word_phonemes in word_phonemes_list:\n",
        "            pronounciation = tuple(word_phonemes) # Convert list to tuple for hashability\n",
        "            to_words[pronounciation].append(word)\n",
        "\n",
        "    # sequences[i] stores all possible sequences of words for phonemes[i, n - 1]\n",
        "    sequences = [[]] * (n + 1)\n",
        "    sequences[n] = [[]] # Base case: empty sequence at the end\n",
        "\n",
        "    for start in range(n - 1, -1, -1): # Iterate from the end to the start | TC: O(square of length of input)\n",
        "        seqs = []\n",
        "        for end in range(start, n):\n",
        "            candidate_pronc = tuple(phonemes[start: end + 1]) #create tuple of phonemes from start to end\n",
        "            if candidate_pronc in to_words:\n",
        "                for candidate_word in to_words[candidate_pronc]:\n",
        "                    for next_words in sequences[end + 1]:\n",
        "                        seqs.append([candidate_word] + next_words)\n",
        "        sequences[start] = seqs\n",
        "    return sequences[0]"
      ],
      "metadata": {
        "id": "0grtpHSGyN-v"
      },
      "execution_count": 1,
      "outputs": []
    },
    {
      "cell_type": "code",
      "source": [
        "# Testcase 1\n",
        "phonemes = [\"AE\", \"B\", \"AH\", \"K\", \"AH\", \"S\"]\n",
        "result = find_word_combos_with_pronunciation(phonemes)\n",
        "print(result)\n"
      ],
      "metadata": {
        "colab": {
          "base_uri": "https://localhost:8080/"
        },
        "id": "RGLAEGUV6i40",
        "outputId": "4f5a40de-2bdd-45a4-a041-227e8911b0e1"
      },
      "execution_count": 2,
      "outputs": [
        {
          "output_type": "stream",
          "name": "stdout",
          "text": [
            "[['ABACUS']]\n"
          ]
        }
      ]
    },
    {
      "cell_type": "code",
      "source": [
        "# Testcase 2\n",
        "phonemes = [\"B\", \"UH\", \"K\"]\n",
        "result = find_word_combos_with_pronunciation(phonemes)\n",
        "print(result)"
      ],
      "metadata": {
        "colab": {
          "base_uri": "https://localhost:8080/"
        },
        "id": "akduS_AA6ueu",
        "outputId": "83ca3aca-1461-4b40-9835-b496886ebd76"
      },
      "execution_count": 3,
      "outputs": [
        {
          "output_type": "stream",
          "name": "stdout",
          "text": [
            "[['BOOK']]\n"
          ]
        }
      ]
    },
    {
      "cell_type": "code",
      "source": [
        "# Testcase 3\n",
        "phonemes = [\"DH\", \"EH\", \"R\"]\n",
        "result = find_word_combos_with_pronunciation(phonemes)\n",
        "print(result)"
      ],
      "metadata": {
        "colab": {
          "base_uri": "https://localhost:8080/"
        },
        "id": "dNwl3sXf6z7e",
        "outputId": "63809f28-a74d-4f72-d2ef-76133adada96"
      },
      "execution_count": 4,
      "outputs": [
        {
          "output_type": "stream",
          "name": "stdout",
          "text": [
            "[['THEIR'], ['THERE']]\n"
          ]
        }
      ]
    },
    {
      "cell_type": "code",
      "source": [
        "# Testcase 4\n",
        "phonemes = [\"DH\", \"EH\", \"R\", \"DH\", \"EH\", \"R\"]\n",
        "result = find_word_combos_with_pronunciation(phonemes)\n",
        "print(result)"
      ],
      "metadata": {
        "colab": {
          "base_uri": "https://localhost:8080/"
        },
        "id": "KIGP9KTU62-h",
        "outputId": "c9e7cd05-12f2-438b-cf2f-408846dbc478"
      },
      "execution_count": 5,
      "outputs": [
        {
          "output_type": "stream",
          "name": "stdout",
          "text": [
            "[['THEIR', 'THEIR'], ['THEIR', 'THERE'], ['THERE', 'THEIR'], ['THERE', 'THERE']]\n"
          ]
        }
      ]
    },
    {
      "cell_type": "code",
      "source": [
        "# Testcase 5\n",
        "phonemes = [\"T\", \"AH\", \"M\", \"AA\", \"T\", \"OW\"]\n",
        "result = find_word_combos_with_pronunciation(phonemes)\n",
        "print(result)"
      ],
      "metadata": {
        "colab": {
          "base_uri": "https://localhost:8080/"
        },
        "id": "o291wpwW7RU8",
        "outputId": "9f6e5e0f-83b6-4a89-98e7-a6445b552b97"
      },
      "execution_count": 6,
      "outputs": [
        {
          "output_type": "stream",
          "name": "stdout",
          "text": [
            "[['TOMATO']]\n"
          ]
        }
      ]
    },
    {
      "cell_type": "code",
      "source": [
        "# Testcase 6\n",
        "phonemes = [\"T\", \"AH\", \"M\", \"EY\", \"T\", \"OW\"]\n",
        "result = find_word_combos_with_pronunciation(phonemes)\n",
        "print(result)"
      ],
      "metadata": {
        "colab": {
          "base_uri": "https://localhost:8080/"
        },
        "id": "vVSv-PJL7XZZ",
        "outputId": "2136ca82-f0fe-4a74-be3a-b53eab5f7bc3"
      },
      "execution_count": 7,
      "outputs": [
        {
          "output_type": "stream",
          "name": "stdout",
          "text": [
            "[['TOMATO']]\n"
          ]
        }
      ]
    },
    {
      "cell_type": "code",
      "source": [
        "# Testcase 7\n",
        "phonemes = [\"T\", \"AH\", \"M\", \"EY\", \"T\", \"OW\", \"T\", \"AH\", \"M\", \"AA\", \"T\", \"OW\"]\n",
        "result = find_word_combos_with_pronunciation(phonemes)\n",
        "print(result)"
      ],
      "metadata": {
        "colab": {
          "base_uri": "https://localhost:8080/"
        },
        "id": "haH-Ijkn7dmG",
        "outputId": "caf428c7-f746-442e-82f5-ae38bf3a63a4"
      },
      "execution_count": 8,
      "outputs": [
        {
          "output_type": "stream",
          "name": "stdout",
          "text": [
            "[['TOMATO', 'TOMATO']]\n"
          ]
        }
      ]
    }
  ]
}